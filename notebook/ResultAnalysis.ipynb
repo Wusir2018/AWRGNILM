{
 "cells": [
  {
   "cell_type": "code",
   "execution_count": 1,
   "metadata": {},
   "outputs": [],
   "source": [
    "import sys\n",
    "sys.path.append(\"../src\")\n",
    "import numpy as np\n",
    "import matplotlib.pyplot as plt\n",
    "import matplotlib.ticker as ticker\n",
    "import itertools\n",
    "import seaborn as sns\n",
    "#sns.color_palette('husl', n_colors=20)\n",
    "from utils.visual_functions import *\n",
    "import torch\n",
    "%matplotlib inline\n",
    "plt.style.use(['science','ieee', 'muted'])\n",
    "fig_path=\"../figure/paper/\"\n",
    "from matplotlib.ticker import (MultipleLocator, FormatStrFormatter,\n",
    "                               AutoMinorLocator, FuncFormatter)"
   ]
  },
  {
   "cell_type": "markdown",
   "metadata": {},
   "source": [
    "## CNN Results"
   ]
  },
  {
   "cell_type": "code",
   "execution_count": 2,
   "metadata": {},
   "outputs": [
    {
     "name": "stdout",
     "output_type": "stream",
     "text": [
      "results for vi image type with plaid dataset\n",
      "mcc:0.91:0.03\n",
      "f1:91.67:2.32\n",
      "zl:8.32:2.35\n",
      "\n",
      "results for adaptive image type with plaid dataset\n",
      "mcc:0.98:0.01\n",
      "f1:97.91:0.97\n",
      "zl:2.1:0.98\n",
      "\n",
      "results for plaid\n",
      "       F1   MCC    ZL\n",
      "vi  91.82  0.91  8.32\n",
      "\n",
      "results for vi image type with lilac dataset\n",
      "mcc:0.85:0.02\n",
      "f1:85.36:2.04\n",
      "zl:13.82:1.99\n",
      "\n",
      "results for adaptive image type with lilac dataset\n",
      "mcc:0.98:0.01\n",
      "f1:98.33:0.74\n",
      "zl:1.66:0.74\n",
      "\n",
      "results for lilac\n",
      "       F1   MCC     ZL\n",
      "vi  85.32  0.85  13.82\n",
      "\n"
     ]
    }
   ],
   "source": [
    "gt_truth = {}\n",
    "predictions = {}\n",
    "for dataset in [\"plaid\", \"lilac\"]:\n",
    "    pred, gt=get_model_results(dataset=dataset, fig_path=fig_path)\n",
    "    predictions[dataset]=pred\n",
    "    gt_truth[dataset]=gt"
   ]
  },
  {
   "cell_type": "markdown",
   "metadata": {},
   "source": [
    "## Error analysis"
   ]
  },
  {
   "cell_type": "code",
   "execution_count": null,
   "metadata": {},
   "outputs": [],
   "source": []
  },
  {
   "cell_type": "markdown",
   "metadata": {},
   "source": [
    "### PLAID dataset"
   ]
  },
  {
   "cell_type": "code",
   "execution_count": 3,
   "metadata": {},
   "outputs": [],
   "source": [
    "true = gt_truth[\"plaid\"][\"adaptive\"]\n",
    "pred = predictions[\"plaid\"][\"adaptive\"]\n",
    "image = np.load(\"../results/plaid_adaptive_50_CNN_1_exp_two_images.npy\", allow_pickle=True)\n",
    "image=np.vstack(image).squeeze()"
   ]
  },
  {
   "cell_type": "code",
   "execution_count": 4,
   "metadata": {},
   "outputs": [],
   "source": [
    "def idx_to_label(x, labels):\n",
    "    x_label = []\n",
    "    for idx in x.tolist():\n",
    "        x_label.append(labels[idx[0]])\n",
    "    return x_label\n",
    "\n",
    "def get_incorrect_idx(y_t, y_p):\n",
    "    idxs = []\n",
    "    for idx, l in enumerate(y_p):\n",
    "        if l!=y_t[idx]:\n",
    "            idxs.append(idx)\n",
    "    return idxs\n",
    "        "
   ]
  },
  {
   "cell_type": "code",
   "execution_count": 5,
   "metadata": {},
   "outputs": [],
   "source": [
    "pred_label = idx_to_label(pred, list(plaid_labels.values()))\n",
    "gt_label = idx_to_label(true, list(plaid_labels.values()))\n",
    "inc_ids = get_incorrect_idx(gt_label, pred_label)"
   ]
  },
  {
   "cell_type": "code",
   "execution_count": null,
   "metadata": {},
   "outputs": [],
   "source": [
    "np.unique(np.array(pred_label))"
   ]
  },
  {
   "cell_type": "code",
   "execution_count": null,
   "metadata": {},
   "outputs": [],
   "source": [
    "for app in np.unique(np.array(pred_label)):\n",
    "    appidx=np.where(np.array(pred_label)[inc_ids]==app)[0]\n",
    "    print(f\"{app}: {len(appidx)}\")\n"
   ]
  },
  {
   "cell_type": "code",
   "execution_count": null,
   "metadata": {},
   "outputs": [],
   "source": [
    "from IPython import display\n",
    "i = 1\n",
    "for idx in np.where(np.array(pred_label)[inc_ids]==\"CFL\")[0]:\n",
    "    plt.figure(figsize=set_figure_size(fig_width=2.2))\n",
    "    plt.matshow(image[inc_ids][idx],cmap='YlGnBu', origin='lower')\n",
    "    plt.title(f\"true:{np.array(gt_label)[inc_ids][idx]}, pred:{np.array(pred_label)[inc_ids][idx]}\")\n",
    "    plt.xlabel(\"$w$\")\n",
    "    plt.ylabel(\"$w$\")\n",
    "    plt.xticks([], [])\n",
    "    ax = plt.gca()\n",
    "    ax.tick_params(axis=\"both\", which=\"both\", bottom=False, \n",
    "               top=False, labelbottom=False, left=False, right=False, labelleft=False)\n",
    "\n",
    "    savefig(fig_path+f\"error_{str(i)}_{np.array(gt_label)[inc_ids][idx]}_{np.array(pred_label)[inc_ids][idx]}_plaid\", format=\".pdf\")\n",
    "    i+=1\n",
    "    #plt.show()\n",
    "    #input(\"enter\")\n",
    "    #display.clear_output()"
   ]
  },
  {
   "cell_type": "code",
   "execution_count": null,
   "metadata": {},
   "outputs": [],
   "source": [
    "np.array(gt_label)[inc_ids][idx]"
   ]
  },
  {
   "cell_type": "code",
   "execution_count": null,
   "metadata": {},
   "outputs": [],
   "source": [
    "cfl=np.where(np.array(pred_label)[inc_ids]=='Laptop')[0]\n",
    "fig, axs = plt.subplots(len(cfl)//2,2, sharex=True, figsize=set_figure_size(columns=2))\n",
    "fig.subplots_adjust(hspace = 0.25)\n",
    "axs = axs.ravel()\n",
    "for i, idap in enumerate(cfl):\n",
    "    axs[i].plot(current[idap], \"k--\", label=\"$i(t)$\", alpha=0.8)\n",
    "    #axs[idap].set_title(app)\n",
    "    axs[i].set_ylabel(\"Current $(A)$\") \n",
    "    #axs[idap].set_xlim(0, 501) \n",
    "    axs[i].autoscale(tight=True)\n",
    "    "
   ]
  },
  {
   "cell_type": "code",
   "execution_count": null,
   "metadata": {},
   "outputs": [],
   "source": [
    "current, voltage, labels = load_data(\"plaid\", submetered=False)"
   ]
  },
  {
   "cell_type": "markdown",
   "metadata": {},
   "source": [
    "## Parameters experiments\n",
    "\n",
    "### Initilization parameters"
   ]
  },
  {
   "cell_type": "code",
   "execution_count": null,
   "metadata": {},
   "outputs": [],
   "source": [
    "import seaborn as sns\n",
    "sns.color_palette('husl', n_colors=20)\n",
    "def get_param_results(dataset=\"lilac\"):\n",
    "    model_name='CNN'\n",
    "    width=50\n",
    "    run_id=1\n",
    "    cv=4\n",
    "    multi_dimension=True\n",
    "    isc=False\n",
    "    names=lilac_names   if dataset==\"lilac\"   else plaid_names  \n",
    "    dataset = dataset+\"_isc\" if isc else dataset\n",
    "    image_type= \"adaptive\"\n",
    "    baseline = False\n",
    "    results_cm = {}\n",
    "    results_f1={}\n",
    "    results_mcc={}\n",
    "    results_zl={}\n",
    "    preds = {}\n",
    "    trues = {}\n",
    "    currents = {}\n",
    "    for delta in [0, 1, 5, 10, 20, width]:\n",
    "        F1=[]\n",
    "        MCC=[]\n",
    "        ZL = []\n",
    "        for eps in [0, 1, 10, 20, 30, 40, 50]:\n",
    "            file_name=f\"{dataset}_{image_type}_{str(width)}_{model_name}_{str(run_id)}_parameters_{str(delta)}_{str(eps)}\"\n",
    "            if dataset==\"lilac\" and multi_dimension==False :\n",
    "                file_name = file_name+\"_multi-dimension-norm\"\n",
    "            #print(f\" load data for {file_name}\")\n",
    "            f1  = np.load(\"../results/\"+file_name+\"_f1.npy\")\n",
    "            zl  = np.load(\"../results/\"+file_name+\"_z_one.npy\")\n",
    "            mcc  = np.load(\"../results/\"+file_name+\"_mcc.npy\")\n",
    "            if delta==10 and eps >0:\n",
    "                F1.append(f1[0]*100)\n",
    "                MCC.append(mcc[0])\n",
    "                ZL.append(zl[0])\n",
    "\n",
    "        #plt.plot([1, 10, 20, 30, 40, 50], np.array(MCC) , label = f'$\\delta=${delta}', marker='v',markersize=5)\n",
    "        if delta==10:\n",
    "            results_mcc[delta]=MCC\n",
    "            results_f1[delta]=F1\n",
    "            results_zl[delta]=ZL\n",
    "    return results_f1\n"
   ]
  },
  {
   "cell_type": "code",
   "execution_count": null,
   "metadata": {},
   "outputs": [],
   "source": [
    "results_delta={}\n",
    "for dataset in [\"plaid\", \"lilac\"]:\n",
    "    results_f1=get_param_results(dataset=dataset)\n",
    "    results_delta[dataset]=np.hstack(list(results_f1.values()))\n"
   ]
  },
  {
   "cell_type": "code",
   "execution_count": null,
   "metadata": {},
   "outputs": [],
   "source": [
    "fig=figure(columns=1)\n",
    "plt.plot(np.array([1, 10, 20, 30, 40, 50]), results_delta[\"plaid\"], marker='v',markersize=3, label=\"PLAID with $\\delta=10$\", color=colors[0])\n",
    "plt.plot(np.array([1, 10, 20, 30, 40, 50]), results_delta[\"lilac\"], marker='v',markersize=3, label=\"LILAC with $\\delta=10$\", color=\"darkorange\", alpha=0.8)\n",
    "plt.ylim(70, 100)\n",
    "plt.xlabel('$\\lambda$', fontsize=12)\n",
    "plt.ylabel('$F_1$ macro $(\\%)$', fontsize=12)\n",
    "ax = plt.gca()\n",
    "leg = ax.legend(fontsize=10)\n",
    "savefig(fig_path+f\"paramaeter_delta_10\", format=\".pdf\")"
   ]
  },
  {
   "cell_type": "markdown",
   "metadata": {},
   "source": [
    "### Delta when eps=10"
   ]
  },
  {
   "cell_type": "code",
   "execution_count": null,
   "metadata": {},
   "outputs": [],
   "source": [
    "def get_param_results(dataset=\"lilac\"):\n",
    "    model_name='CNN'\n",
    "    width=50\n",
    "    run_id=1\n",
    "    cv=4\n",
    "    multi_dimension=True\n",
    "    isc=False\n",
    "    names=lilac_names   if dataset==\"lilac\"   else plaid_names  \n",
    "    dataset = dataset+\"_isc\" if isc else dataset\n",
    "    image_type= \"adaptive\"\n",
    "    baseline = False\n",
    "    results_cm = {}\n",
    "    results_f1={}\n",
    "    results_mcc={}\n",
    "    results_zl={}\n",
    "    preds = {}\n",
    "    trues = {}\n",
    "    currents = {}\n",
    "    for eps in [0, 1, 10, 20, 30, 40, 50]:\n",
    "        F1=[]\n",
    "        MCC=[]\n",
    "        ZL = []\n",
    "        for delta in [0, 1, 5, 10, 20, width]:\n",
    "            file_name=f\"{dataset}_{image_type}_{str(width)}_{model_name}_{str(run_id)}_parameters_{str(delta)}_{str(eps)}\"\n",
    "            if dataset==\"lilac\" and multi_dimension==False :\n",
    "                file_name = file_name+\"_multi-dimension-norm\"\n",
    "            #print(f\" load data for {file_name}\")\n",
    "            f1  = np.load(\"../results/\"+file_name+\"_f1.npy\")\n",
    "            zl  = np.load(\"../results/\"+file_name+\"_z_one.npy\")\n",
    "            mcc  = np.load(\"../results/\"+file_name+\"_mcc.npy\")\n",
    "            if eps==10:\n",
    "                F1.append(f1[0]*100)\n",
    "                MCC.append(mcc[0])\n",
    "                ZL.append(zl[0])\n",
    "\n",
    "        #plt.plot([1, 10, 20, 30, 40, 50], np.array(MCC) , label = f'$\\delta=${delta}', marker='v',markersize=5)\n",
    "        if eps==10:\n",
    "            results_mcc[eps]=MCC\n",
    "            results_f1[eps]=F1\n",
    "            results_zl[eps]=ZL\n",
    "    return results_f1"
   ]
  },
  {
   "cell_type": "code",
   "execution_count": null,
   "metadata": {},
   "outputs": [],
   "source": [
    "results_delta={}\n",
    "for dataset in [\"plaid\", \"lilac\"]:\n",
    "    results_f1=get_param_results(dataset=dataset)\n",
    "    results_delta[dataset]=np.hstack(list(results_f1.values()))\n",
    "fig=figure(columns=1)\n",
    "plt.plot(np.array([0, 1, 5, 10, 20, 50]), results_delta[\"plaid\"], marker='v',markersize=3, label=\"PLAID with $\\lambda=10$\", color=colors[0])\n",
    "plt.plot(np.array([0, 1, 5, 10, 20, 50]), results_delta[\"lilac\"], marker='v',markersize=3, label=\"LILAC with $\\lambda=10$\", color=\"darkorange\", alpha=0.8)\n",
    "plt.ylim(70, 100)\n",
    "plt.xlabel('$\\delta$', fontsize=12)\n",
    "plt.ylabel('$F_1$ macro $(\\%)$', fontsize=12)\n",
    "ax = plt.gca()\n",
    "leg = ax.legend(fontsize=10)\n",
    "savefig(fig_path+f\"paramaeter_lambda_10\", format=\".pdf\")    "
   ]
  },
  {
   "cell_type": "markdown",
   "metadata": {},
   "source": [
    "### Embending size"
   ]
  },
  {
   "cell_type": "code",
   "execution_count": null,
   "metadata": {},
   "outputs": [],
   "source": [
    "def get_param_width_results(dataset=\"lilac\"):\n",
    "    model_name='CNN'\n",
    "    width=50\n",
    "    run_id=1\n",
    "    cv=4\n",
    "    multi_dimension=True\n",
    "    isc=False\n",
    "    names=lilac_names   if dataset==\"lilac\"   else plaid_names  \n",
    "    dataset = dataset+\"_isc\" if isc else dataset\n",
    "    image_type= \"adaptive\"\n",
    "    baseline = False\n",
    "    \n",
    "    results_f1={}\n",
    "    results_mcc={}\n",
    "    results_zl={}\n",
    "    results_time={}\n",
    "    preds = {}\n",
    "    trues = {}\n",
    "    currents = {}\n",
    "    delta=10\n",
    "    eps=10\n",
    "    widths = [30, 50, 60, 80, 100]\n",
    "    results = pd.DataFrame( index=widths, columns=[\"F1\", \"MCC\", \"ZL\", \"TIME\"])\n",
    "    for width in widths:\n",
    "        file_name=f\"{dataset}_{image_type}_{str(width)}_{model_name}_{str(run_id)}_parameters_emb_size_{str(delta)}_{str(eps)}\"\n",
    "        if dataset==\"lilac\" and multi_dimension==False :\n",
    "            file_name = file_name+\"_multi-dimension-norm\"\n",
    "           \n",
    "        f1  = np.load(\"../results/\"+file_name+\"_f1.npy\").flatten()\n",
    "        zl  = np.load(\"../results/\"+file_name+\"_z_one.npy\").flatten()\n",
    "        mcc  = np.load(\"../results/\"+file_name+\"_mcc.npy\").flatten()\n",
    "        time = np.load(\"../results/\"+file_name+\"_time.npy\").flatten()\n",
    "        \n",
    "        results_f1[width]=list(f1)[0]\n",
    "        results_mcc[width]=list(mcc)[0]\n",
    "        results_zl[width]=list(zl)[0]\n",
    "        results_time[width]=list(time)[0]/60\n",
    "        \n",
    "    results[\"F1\"] = pd.Series(results_f1)\n",
    "    results[\"MCC\"] = pd.Series(results_mcc)\n",
    "    results[\"ZL\"] = pd.Series(results_zl)\n",
    "    results[\"TIME\"] = pd.Series(results_time)\n",
    "    results=results.round(4)\n",
    "    return results\n",
    "           \n",
    "results={}\n",
    "for dataset in [\"plaid\", \"lilac\"]:\n",
    "    results[dataset]=get_param_width_results(dataset=dataset)"
   ]
  },
  {
   "cell_type": "code",
   "execution_count": null,
   "metadata": {},
   "outputs": [],
   "source": [
    "fig=figure(columns=1)\n",
    "plt.plot(np.array([30, 50, 60, 80, 100]), results['plaid']['F1'].values*100, marker='v',markersize=3, label=\"PLAID \",color=colors[0])\n",
    "plt.plot(np.array([30, 50, 60, 80, 100]), results['lilac']['F1'].values*100, marker='v',markersize=3, label=\"LILAC \",color=\"darkorange\", alpha=0.8)\n",
    "plt.ylim(70, 100)\n",
    "plt.xlabel('$w$', fontsize=12)\n",
    "plt.ylabel('$F_1$ macro $(\\%)$', fontsize=12)\n",
    "ax = plt.gca()\n",
    "leg = ax.legend(fontsize=10)\n",
    "savefig(fig_path+f\"paramaeter_width\", format=\".pdf\")"
   ]
  },
  {
   "cell_type": "code",
   "execution_count": null,
   "metadata": {},
   "outputs": [],
   "source": [
    "fig=figure(columns=1)\n",
    "plt.plot(np.array([30, 50, 60, 80, 100]), results['plaid']['TIME'].values, marker='v',markersize=3, label=\"PLAID \", color=colors[0])\n",
    "plt.plot(np.array([30, 50, 60, 80, 100]), results['lilac']['TIME'].values, marker='v',markersize=3, label=\"LILAC \", color=\"darkorange\", alpha=0.8)\n",
    "#plt.ylim(70, 100)\n",
    "plt.xlabel('$w$', fontsize=12)\n",
    "plt.ylabel('Time ($m$)', fontsize=12)\n",
    "ax = plt.gca()\n",
    "ax = plt.gca()\n",
    "leg = ax.legend(fontsize=10)\n",
    "savefig(fig_path+f\"paramaeter_width_time\", format=\".pdf\")"
   ]
  },
  {
   "cell_type": "code",
   "execution_count": null,
   "metadata": {},
   "outputs": [],
   "source": []
  }
 ],
 "metadata": {
  "kernelspec": {
   "display_name": "Python 3",
   "language": "python",
   "name": "python3"
  },
  "language_info": {
   "codemirror_mode": {
    "name": "ipython",
    "version": 3
   },
   "file_extension": ".py",
   "mimetype": "text/x-python",
   "name": "python",
   "nbconvert_exporter": "python",
   "pygments_lexer": "ipython3",
   "version": "3.7.7"
  },
  "latex_envs": {
   "LaTeX_envs_menu_present": true,
   "autoclose": false,
   "autocomplete": true,
   "bibliofile": "biblio.bib",
   "cite_by": "apalike",
   "current_citInitial": 1,
   "eqLabelWithNumbers": true,
   "eqNumInitial": 1,
   "hotkeys": {
    "equation": "Ctrl-E",
    "itemize": "Ctrl-I"
   },
   "labels_anchors": false,
   "latex_user_defs": false,
   "report_style_numbering": false,
   "user_envs_cfg": false
  }
 },
 "nbformat": 4,
 "nbformat_minor": 4
}
