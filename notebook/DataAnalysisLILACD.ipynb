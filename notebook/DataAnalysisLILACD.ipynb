{
 "cells": [
  {
   "cell_type": "code",
   "execution_count": 1,
   "metadata": {},
   "outputs": [],
   "source": [
    "import sys\n",
    "sys.path.append('../src/')\n",
    "from data_generator import *\n",
    "from submetered_data import *\n",
    "from sklearn.model_selection import StratifiedKFold\n",
    "from sklearn.preprocessing import LabelEncoder, StandardScaler\n",
    "import matplotlib.pyplot as plt\n",
    "from data_generator import *\n",
    "import numpy as np\n",
    "import pandas as pd\n",
    "plt.rc('text', usetex=True)\n",
    "plt.rc('font', family='serif')\n",
    "plt.rcParams.update({'font.size': 12})\n",
    "plt.rcParams.update({'legend.fontsize': 10})\n",
    "%matplotlib inline\n",
    "from scipy.spatial.distance import squareform\n",
    "from sklearn.preprocessing import LabelEncoder, StandardScaler\n",
    "from visual_functions import *\n",
    "from transform_functions import *\n",
    "fig_path=\"../paper/img/\"\n",
    "names = ['CFL','ILB','Waterkettle','Fan','AC','HairIron','LaptopCharger','SolderingIron','Fridge','Vacuum','CoffeeMaker','FridgeDefroster']"
   ]
  },
  {
   "cell_type": "code",
   "execution_count": 2,
   "metadata": {},
   "outputs": [],
   "source": [
    "def load_data(data_type=\"plaid\", submetered=True):\n",
    "    \n",
    "    path_sub = f\"../data/{data_type}/submetered/\" if submetered else f\"../data/{data_type}/aggregated/\"\n",
    "    \n",
    "    current = np.load(path_sub+\"current.npy\")\n",
    "    voltage = np.load(path_sub+\"voltage.npy\")\n",
    "    labels = np.load(path_sub+\"labels.npy\")\n",
    "    return current, voltage, labels"
   ]
  },
  {
   "cell_type": "markdown",
   "metadata": {},
   "source": [
    "## Industrial"
   ]
  },
  {
   "cell_type": "code",
   "execution_count": 3,
   "metadata": {},
   "outputs": [],
   "source": [
    "current, voltage, labels = load_data(\"lilac\", submetered=False)\n",
    "labels = get_correct_labels_lilac(labels)"
   ]
  },
  {
   "cell_type": "code",
   "execution_count": 4,
   "metadata": {},
   "outputs": [],
   "source": [
    "np.unique(labels)\n",
    "res_app=['Coffee-machine', 'Drilling-machine', 'Kettle', 'Raclette', 'Refrigerator', 'Vacuum-cleaner', 'Hair-dryer', 'Bulb']\n",
    "indust_app = []\n",
    "for l in np.unique(labels):\n",
    "    if l not in res_app:\n",
    "        indust_app.append(l)"
   ]
  },
  {
   "cell_type": "code",
   "execution_count": 6,
   "metadata": {},
   "outputs": [
    {
     "data": {
      "text/plain": [
       "['1-phase-async-motor',\n",
       " '3-phase-async-motor',\n",
       " 'Dumper-machine',\n",
       " 'Fluorescent-lamp',\n",
       " 'Freq-conv-squirrel-3-2x',\n",
       " 'Resistor',\n",
       " 'Squirrel-3-async',\n",
       " 'Squirrel-3-async-2x']"
      ]
     },
     "execution_count": 6,
     "metadata": {},
     "output_type": "execute_result"
    }
   ],
   "source": [
    "indust_app"
   ]
  },
  {
   "cell_type": "code",
   "execution_count": 7,
   "metadata": {},
   "outputs": [],
   "source": [
    "hair = np.where(labels=='Refrigerator')[0]\n",
    "motor = np.where(labels=='1-phase-async-motor')[0]"
   ]
  },
  {
   "cell_type": "code",
   "execution_count": null,
   "metadata": {},
   "outputs": [],
   "source": [
    "from IPython import display\n",
    "fig = figure(fig_width=7, fig_height=4)\n",
    "for id in range(len(hair)):\n",
    "    print(hair[id])\n",
    "    plt.subplot(1,2,1)\n",
    "    plt.plot(current[hair[id]][0], voltage[hair[id]][0])\n",
    "    plt.subplot(1,2,2)\n",
    "    plt.plot(current[motor[id]][0], voltage[motor[id]][0])\n",
    "    plt.show()\n",
    "    plt.tight_layout()\n",
    "    input(\"Enter\")\n",
    "    display.clear_output()"
   ]
  },
  {
   "cell_type": "code",
   "execution_count": null,
   "metadata": {},
   "outputs": [],
   "source": [
    "1314, "
   ]
  },
  {
   "cell_type": "code",
   "execution_count": 13,
   "metadata": {},
   "outputs": [
    {
     "name": "stdout",
     "output_type": "stream",
     "text": [
      "Hair-dryer\n"
     ]
    },
    {
     "data": {
      "text/plain": [
       "[<matplotlib.lines.Line2D at 0x7f9e485c3e90>]"
      ]
     },
     "execution_count": 13,
     "metadata": {},
     "output_type": "execute_result"
    },
    {
     "data": {
      "image/png": "[encoded data removed]",
      "text/plain": [
       "<Figure size 504x288 with 3 Axes>"
      ]
     },
     "metadata": {
      "needs_background": "light"
     },
     "output_type": "display_data"
    }
   ],
   "source": [
    "id = 1314\n",
    "print(labels[id])\n",
    "fig = figure(fig_width=7, fig_height=4)\n",
    "plt.subplot(1,3,1)\n",
    "plt.plot(current[id][0], voltage[id][0])\n",
    "plt.subplot(1,3,2)\n",
    "plt.plot(current[id][1], voltage[id][1])\n",
    "plt.subplot(1,3,3)\n",
    "plt.plot(current[id][2], voltage[id][2])"
   ]
  },
  {
   "cell_type": "code",
   "execution_count": null,
   "metadata": {},
   "outputs": [],
   "source": [
    "## PLAID"
   ]
  },
  {
   "cell_type": "code",
   "execution_count": 23,
   "metadata": {},
   "outputs": [],
   "source": [
    "current, voltage, labels = load_data(\"plaid\", submetered=False)"
   ]
  },
  {
   "cell_type": "code",
   "execution_count": 27,
   "metadata": {},
   "outputs": [],
   "source": [
    "plaid_label =[]\n",
    "for l in labels:\n",
    "    idx=l-1 if l<4 else l-2\n",
    "    plaid_label.append(names[idx])\n",
    "plaid_label = np.array(plaid_label)"
   ]
  },
  {
   "cell_type": "code",
   "execution_count": 30,
   "metadata": {},
   "outputs": [
    {
     "data": {
      "text/plain": [
       "134"
      ]
     },
     "execution_count": 30,
     "metadata": {},
     "output_type": "execute_result"
    }
   ],
   "source": [
    "cfl = np.where(plaid_label=='CFL')[0]\n",
    "laptop = np.where(plaid_label=='LaptopCharger')[0]\n",
    "len(laptop)"
   ]
  },
  {
   "cell_type": "code",
   "execution_count": 36,
   "metadata": {},
   "outputs": [
    {
     "ename": "IndexError",
     "evalue": "index 114 is out of bounds for axis 0 with size 114",
     "output_type": "error",
     "traceback": [
      "\u001b[0;31m---------------------------------------------------------------------------\u001b[0m",
      "\u001b[0;31mIndexError\u001b[0m                                Traceback (most recent call last)",
      "\u001b[0;32m<ipython-input-36-6df9e2094984>\u001b[0m in \u001b[0;36m<module>\u001b[0;34m\u001b[0m\n\u001b[1;32m      2\u001b[0m \u001b[0mfig\u001b[0m \u001b[0;34m=\u001b[0m \u001b[0mfigure\u001b[0m\u001b[0;34m(\u001b[0m\u001b[0mfig_width\u001b[0m\u001b[0;34m=\u001b[0m\u001b[0;36m7\u001b[0m\u001b[0;34m,\u001b[0m \u001b[0mfig_height\u001b[0m\u001b[0;34m=\u001b[0m\u001b[0;36m4\u001b[0m\u001b[0;34m)\u001b[0m\u001b[0;34m\u001b[0m\u001b[0;34m\u001b[0m\u001b[0m\n\u001b[1;32m      3\u001b[0m \u001b[0;32mfor\u001b[0m \u001b[0mid\u001b[0m \u001b[0;32min\u001b[0m \u001b[0mrange\u001b[0m\u001b[0;34m(\u001b[0m\u001b[0mlen\u001b[0m\u001b[0;34m(\u001b[0m\u001b[0mlaptop\u001b[0m\u001b[0;34m)\u001b[0m\u001b[0;34m)\u001b[0m\u001b[0;34m:\u001b[0m\u001b[0;34m\u001b[0m\u001b[0;34m\u001b[0m\u001b[0m\n\u001b[0;32m----> 4\u001b[0;31m     \u001b[0mprint\u001b[0m\u001b[0;34m(\u001b[0m\u001b[0mcfl\u001b[0m\u001b[0;34m[\u001b[0m\u001b[0mid\u001b[0m\u001b[0;34m]\u001b[0m\u001b[0;34m)\u001b[0m\u001b[0;34m\u001b[0m\u001b[0;34m\u001b[0m\u001b[0m\n\u001b[0m\u001b[1;32m      5\u001b[0m     \u001b[0mplt\u001b[0m\u001b[0;34m.\u001b[0m\u001b[0msubplot\u001b[0m\u001b[0;34m(\u001b[0m\u001b[0;36m1\u001b[0m\u001b[0;34m,\u001b[0m\u001b[0;36m2\u001b[0m\u001b[0;34m,\u001b[0m\u001b[0;36m1\u001b[0m\u001b[0;34m)\u001b[0m\u001b[0;34m\u001b[0m\u001b[0;34m\u001b[0m\u001b[0m\n\u001b[1;32m      6\u001b[0m     \u001b[0mplt\u001b[0m\u001b[0;34m.\u001b[0m\u001b[0mplot\u001b[0m\u001b[0;34m(\u001b[0m\u001b[0mcurrent\u001b[0m\u001b[0;34m[\u001b[0m\u001b[0mlaptop\u001b[0m\u001b[0;34m[\u001b[0m\u001b[0mid\u001b[0m\u001b[0;34m]\u001b[0m\u001b[0;34m]\u001b[0m\u001b[0;34m,\u001b[0m \u001b[0mvoltage\u001b[0m\u001b[0;34m[\u001b[0m\u001b[0mlaptop\u001b[0m\u001b[0;34m[\u001b[0m\u001b[0mid\u001b[0m\u001b[0;34m]\u001b[0m\u001b[0;34m]\u001b[0m\u001b[0;34m)\u001b[0m\u001b[0;34m\u001b[0m\u001b[0;34m\u001b[0m\u001b[0m\n",
      "\u001b[0;31mIndexError\u001b[0m: index 114 is out of bounds for axis 0 with size 114"
     ]
    },
    {
     "data": {
      "text/plain": [
       "<Figure size 432x288 with 0 Axes>"
      ]
     },
     "metadata": {},
     "output_type": "display_data"
    }
   ],
   "source": [
    "from IPython import display\n",
    "fig = figure(fig_width=7, fig_height=4)\n",
    "for id in range(len(laptop)):\n",
    "    print(cfl[id])\n",
    "    plt.subplot(1,2,1)\n",
    "    plt.plot(current[laptop[id]], voltage[laptop[id]])\n",
    "    plt.subplot(1,2,2)\n",
    "    plt.plot(current[cfl[id]], voltage[cfl[id]])\n",
    "    plt.show()\n",
    "    plt.tight_layout()\n",
    "    input(\"Enter\")\n",
    "    display.clear_output()"
   ]
  },
  {
   "cell_type": "code",
   "execution_count": null,
   "metadata": {},
   "outputs": [],
   "source": [
    "## laptop noise: 742, 744, 745, 748, 753, 754,765, 769, 770, 776, \n",
    "## cfl noise 11,25, 35, 41, 49, 81, 106, 113"
   ]
  }
 ],
 "metadata": {
  "kernelspec": {
   "display_name": "Python 3",
   "language": "python",
   "name": "python3"
  },
  "language_info": {
   "codemirror_mode": {
    "name": "ipython",
    "version": 3
   },
   "file_extension": ".py",
   "mimetype": "text/x-python",
   "name": "python",
   "nbconvert_exporter": "python",
   "pygments_lexer": "ipython3",
   "version": "3.7.4"
  },
  "latex_envs": {
   "LaTeX_envs_menu_present": true,
   "autoclose": false,
   "autocomplete": true,
   "bibliofile": "biblio.bib",
   "cite_by": "apalike",
   "current_citInitial": 1,
   "eqLabelWithNumbers": true,
   "eqNumInitial": 1,
   "hotkeys": {
    "equation": "Ctrl-E",
    "itemize": "Ctrl-I"
   },
   "labels_anchors": false,
   "latex_user_defs": false,
   "report_style_numbering": false,
   "user_envs_cfg": false
  }
 },
 "nbformat": 4,
 "nbformat_minor": 4
}
