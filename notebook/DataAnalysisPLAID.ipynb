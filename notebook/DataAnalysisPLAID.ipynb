{
 "cells": [
  {
   "cell_type": "code",
   "execution_count": 1,
   "metadata": {},
   "outputs": [],
   "source": [
    "import sys\n",
    "sys.path.append('../src/')\n",
    "from data_generator import *\n",
    "from submetered_data import *\n",
    "from sklearn.model_selection import StratifiedKFold\n",
    "from sklearn.preprocessing import LabelEncoder, StandardScaler\n",
    "import matplotlib.pyplot as plt\n",
    "from data_generator import *\n",
    "import numpy as np\n",
    "import pandas as pd\n",
    "plt.rc('text', usetex=True)\n",
    "plt.rc('font', family='serif')\n",
    "plt.rcParams.update({'font.size': 12})\n",
    "plt.rcParams.update({'legend.fontsize': 10})\n",
    "%matplotlib inline\n",
    "from scipy.spatial.distance import squareform\n",
    "from sklearn.preprocessing import LabelEncoder, StandardScaler\n",
    "from visual_functions import *\n",
    "from transform_functions import *\n",
    "fig_path=\"../paper/img/\"\n",
    "names = ['CFL','ILB','Waterkettle','Fan','AC','HairIron','LaptopCharger','SolderingIron','Fridge','Vacuum','CoffeeMaker','FridgeDefroster']"
   ]
  },
  {
   "cell_type": "code",
   "execution_count": 11,
   "metadata": {},
   "outputs": [],
   "source": [
    "def read_events_labels(file1, file2, data_path='../../data/Data/'):\n",
    "    a = pd.read_csv(data_path+file1,header=None)\n",
    "    a = a.values\n",
    "\n",
    "    b = pd.read_csv(data_path+file2,header=None)\n",
    "    b = b.values\n",
    "\n",
    "    events = {}\n",
    "    labels = {}\n",
    "    for index in range(len(a)):\n",
    "        line = a[index]\n",
    "        ev = [int(i) for i in line[0].strip().split(\" \")]\n",
    "        events[index] = ev\n",
    "\n",
    "        line = b[index]\n",
    "        ev = [int(i) for i in line[0].strip().split(\" \")]\n",
    "        labels[index] = ev\n",
    "    return events, labels\n",
    "\n",
    "def select_data_appliance_type(folder, appliance_id, data_path):\n",
    "    file1 = folder + '_events'\n",
    "    file2 = folder + '_labels'\n",
    "    \n",
    "    events, labels = read_events_labels(file1, file2, data_path)\n",
    "    data_appliance_id = []\n",
    "    files_appliance_id = []\n",
    "    for index, e, l in zip(events.keys(), events.values(), labels.values()):\n",
    "        if appliance_id not in l:\n",
    "            continue\n",
    "            \n",
    "        ids_appl = np.where(np.array(l) == appliance_id)[0]\n",
    "        events_appliance_id = np.array(e)[ids_appl]\n",
    "        \n",
    "        # Read the file.\n",
    "        f = data_path+folder+'/'+str(index+1)\n",
    "        #f = 'Data/'+folder+'/'+str(index+1)\n",
    "        a = pd.read_csv(f,names=['current','voltage'])\n",
    "        \n",
    "        data_appliance_id += [a[i-1000:i+1000].values for i in events_appliance_id]\n",
    "        files_appliance_id += [index+1 for i in events_appliance_id]\n",
    "        \n",
    "    return data_appliance_id, files_appliance_id\n",
    "    \n",
    "def select_zc(voltage):\n",
    "    zero_crossing = np.where(np.diff(np.sign(voltage)))[0]\n",
    "    \n",
    "    if voltage[zero_crossing[0]+1] > 0:\n",
    "        zero_crossing = zero_crossing[0:]\n",
    "    else:\n",
    "        zero_crossing = zero_crossing[1:]\n",
    "        \n",
    "    if len(zero_crossing) % 2 == 1:\n",
    "        zero_crossing = zero_crossing[:-1]\n",
    "        \n",
    "    if zero_crossing[-1] + 250 >= len(voltage):\n",
    "        zero_crossing = zero_crossing[:-2]\n",
    "        \n",
    "    return zero_crossing\n",
    "\n",
    "def transform(data, on_event):\n",
    "    c = np.empty((0,500))\n",
    "    v = np.empty((0,500))\n",
    "    \n",
    "    for i, j in zip(data, on_event):\n",
    "        current = i[:,0]\n",
    "        voltage = i[:,1]\n",
    "\n",
    "        zc = select_zc(voltage)\n",
    "\n",
    "        before_event = np.concatenate([current[zc[0]:zc[0]+250],current[zc[1]:zc[1]+250]])\n",
    "        after_event = np.concatenate([current[zc[-2]:zc[-2]+250],current[zc[-1]:zc[-1]+250]])\n",
    "\n",
    "        if j:\n",
    "            diff = after_event - before_event\n",
    "            vtemp = np.concatenate([voltage[zc[-2]:zc[-2]+250],voltage[zc[-1]:zc[-1]+250]])\n",
    "            \n",
    "        else:\n",
    "            diff = [before_event - after_event]\n",
    "            vtemp = np.concatenate([voltage[zc[0]:zc[0]+250],voltage[zc[1]:zc[1]+250]])\n",
    "            \n",
    "        v = np.vstack((v,vtemp))\n",
    "        c = np.vstack((c,diff))\n",
    "            \n",
    "    return c, v\n",
    "\n",
    "data = []\n",
    "labels = []\n",
    "on_event = []\n",
    "for i in range(1,2):\n",
    "    t, f = select_data_appliance_type('FINALAGGREGATED', i, data_path='../../data/Data/')\n",
    "    data += t\n",
    "    labels += [i] * len(t)\n",
    "    if i != 9:\n",
    "        on_event += [1, 0] * int(len(t) / 2)\n",
    "    else:\n",
    "        on_event += [1, 1, 0] * int(len(t) / 3)\n",
    "\n",
    "#current, voltage = transform(data, on_event)\n"
   ]
  },
  {
   "cell_type": "code",
   "execution_count": 16,
   "metadata": {},
   "outputs": [
    {
     "data": {
      "text/plain": [
       "[<matplotlib.lines.Line2D at 0x7efb93a7f790>]"
      ]
     },
     "execution_count": 16,
     "metadata": {},
     "output_type": "execute_result"
    },
    {
     "data": {
      "image/png": "[encoded data removed]",
      "text/plain": [
       "<Figure size 432x288 with 1 Axes>"
      ]
     },
     "metadata": {
      "needs_background": "light"
     },
     "output_type": "display_data"
    }
   ],
   "source": [
    "plt.plot(data[24][:,0])"
   ]
  },
  {
   "cell_type": "code",
   "execution_count": null,
   "metadata": {},
   "outputs": [],
   "source": []
  }
 ],
 "metadata": {
  "kernelspec": {
   "display_name": "Python 3",
   "language": "python",
   "name": "python3"
  },
  "language_info": {
   "codemirror_mode": {
    "name": "ipython",
    "version": 3
   },
   "file_extension": ".py",
   "mimetype": "text/x-python",
   "name": "python",
   "nbconvert_exporter": "python",
   "pygments_lexer": "ipython3",
   "version": "3.7.4"
  },
  "latex_envs": {
   "LaTeX_envs_menu_present": true,
   "autoclose": false,
   "autocomplete": true,
   "bibliofile": "biblio.bib",
   "cite_by": "apalike",
   "current_citInitial": 1,
   "eqLabelWithNumbers": true,
   "eqNumInitial": 1,
   "hotkeys": {
    "equation": "Ctrl-E",
    "itemize": "Ctrl-I"
   },
   "labels_anchors": false,
   "latex_user_defs": false,
   "report_style_numbering": false,
   "user_envs_cfg": false
  }
 },
 "nbformat": 4,
 "nbformat_minor": 4
}
