{
 "cells": [
  {
   "cell_type": "code",
   "execution_count": 1,
   "metadata": {},
   "outputs": [
    {
     "name": "stdout",
     "output_type": "stream",
     "text": [
      "set seed\n"
     ]
    }
   ],
   "source": [
    "import sys\n",
    "sys.path.append('../src/')\n",
    "import matplotlib.pyplot as plt\n",
    "from utils.visual_functions import *\n",
    "from utils.utils import *\n",
    "from net.model import ReccurrentBlock\n",
    "import numpy as np\n",
    "import torch \n",
    "from sklearn.manifold import TSNE\n",
    "import matplotlib\n",
    "#import seaborn as sns\n",
    "#sns.color_palette('husl', n_colors=20)\n",
    "%matplotlib inline\n",
    "fig_path=\"../figure/paper/\"\n",
    "seed = 4783957\n",
    "print(\"set seed\")\n",
    "np.random.seed(seed)\n",
    "plt.style.use(['science','ieee', 'muted'])\n",
    "import torch\n",
    "import torch.nn as nn\n",
    "import torch.nn.functional as F"
   ]
  },
  {
   "cell_type": "code",
   "execution_count": 2,
   "metadata": {},
   "outputs": [],
   "source": [
    "def load_data(data_type=\"plaid\", submetered=True):\n",
    "    \n",
    "    path_sub = f\"../data/{data_type}/submetered/\" if submetered else f\"../data/{data_type}/aggregated/\"\n",
    "    \n",
    "    current = np.load(path_sub+\"current.npy\")\n",
    "    voltage = np.load(path_sub+\"voltage.npy\")\n",
    "    labels = np.load(path_sub+\"labels.npy\")\n",
    "    return current, voltage, labels\n",
    "\n",
    "def calculatePower(train_current, train_voltage, NN=500):\n",
    "  \n",
    "\n",
    "    n = len(current)\n",
    "    PQ = np.empty([n,2])\n",
    "    for i in range(n):\n",
    "        # extract current and voltage in two cycle\n",
    "        # extract current and voltage in two cycle\n",
    "        temp_I = current[i]\n",
    "        temp_V = voltage[i]\n",
    "        Irms = np.mean(temp_I**2)**0.5\n",
    "        Vrms = np.mean(temp_V**2)**0.5\n",
    "\n",
    "        # Instantaneous power: obtained by multiplying the instantaneous voltage and current values\n",
    "        Pinst = temp_I * temp_V\n",
    "        Pactive = np.mean(Pinst) \n",
    "\n",
    "        # Apparent power: obtained by multiplying the RMS values of voltage and current\n",
    "        Papparent = Vrms*Irms;\n",
    "\n",
    "        # Ractive power if power triangle holds:\n",
    "        Preactive = np.sqrt(Papparent**2 - Pactive**2);\n",
    "\n",
    "\n",
    "\n",
    "\n",
    "        PQ[i,0]=Pactive\n",
    "        PQ[i,1]=Preactive\n",
    "    return PQ\n",
    "\n"
   ]
  },
  {
   "cell_type": "code",
   "execution_count": 3,
   "metadata": {},
   "outputs": [],
   "source": [
    "def plot_PQPlane(labels, PQ, legends=None, sample=True):\n",
    "    \n",
    "    if legends:\n",
    "        Legends=legends\n",
    "    else:\n",
    "        Legends=np.unique(labels)\n",
    "        \n",
    "    clrs = sns.color_palette(\"Paired\", len(Legends))\n",
    "    markers='1v^<P4ph+DX*8os3<-'\n",
    "    \n",
    "    minx,maxx,miny,maxy = (0,0,0,0)\n",
    "    \n",
    "\n",
    "    for i, app in enumerate(Legends):\n",
    "        ix=np.where(labels==app)[0]\n",
    "        if sample:\n",
    "            ix1 = np.random.randint(PQ.shape[0],size=6)\n",
    "            tempx = PQ[ix1,0]\n",
    "            tempy = PQ[ix1,1]\n",
    "        else:\n",
    "            tempx = PQ[ix,0]\n",
    "            tempy = PQ[ix,1]\n",
    "        plt.scatter(tempx,tempy,marker=markers[i], s=30, label=Legends[i], color=clrs[i])\n",
    "        minx = min(minx,min(tempx))\n",
    "        maxx = max(maxx,max(tempx))\n",
    "        miny = min(miny,min(tempy))\n",
    "        maxy = max(maxy,max(tempy))    \n",
    "    plt.axis([minx*0.9,maxx*1.1,miny*0.9,maxy*1.1])\n",
    "    plt.xlabel('Real Power(W)')\n",
    "    plt.ylabel('Reactive Power (VAR)')\n",
    "    plt.legend(bbox_to_anchor=(1.01, 1), loc=2, borderaxespad=0.)\n",
    "    plt.tight_layout()\n",
    "\n",
    "    \n",
    "def tsne_visualizer(labels, feature, legends=None):\n",
    "    if legends:\n",
    "        Legends=legends\n",
    "    else:\n",
    "        Legends=np.unique(labels)\n",
    "    clrs = sns.color_palette(\"Paired\", len(Legends))\n",
    "    model  = TSNE(perplexity=40, min_grad_norm=1E-12, n_iter=3000)\n",
    "    #model = TSNE(n_components=2, random_state=0, perplexity=20, n_iter=1000)\n",
    "    TSNEF  = model.fit_transform(feature.reshape(len(feature), -1))\n",
    "    \n",
    "    for i, app in enumerate(Legends):\n",
    "        ix=np.where(labels==app)[0]\n",
    "        plt.scatter(TSNEF[ix,0], TSNEF[ix,1],label=app, color=clrs[i])\n",
    "    plt.legend(bbox_to_anchor=(1.01, 1), loc=2, borderaxespad=0.)\n",
    "    plt.xlabel(\"tsne-2d-one\")\n",
    "    plt.ylabel(\"tsne-2d-two\")"
   ]
  },
  {
   "cell_type": "markdown",
   "metadata": {},
   "source": [
    "### PLAID"
   ]
  },
  {
   "cell_type": "code",
   "execution_count": 4,
   "metadata": {},
   "outputs": [],
   "source": [
    "current, voltage, labels = load_data(\"plaid\", submetered=False)\n",
    "plaid_label =[]\n",
    "for l in labels:\n",
    "    idx=l-1 if l<4 else l-2\n",
    "    plaid_label.append(list(plaid_labels.values())[idx])"
   ]
  },
  {
   "cell_type": "markdown",
   "metadata": {},
   "source": [
    "## Label distributions"
   ]
  },
  {
   "cell_type": "code",
   "execution_count": 5,
   "metadata": {},
   "outputs": [],
   "source": [
    "label, counts=np.unique(plaid_label, return_counts=True)\n",
    "volgorde = np.argsort(counts)[::-1][:len(counts)]\n",
    "fig = figure(columns=2)\n",
    "plt.bar(label[volgorde], counts[volgorde], color=colors[0])\n",
    "plt.xticks(rotation=90, fontsize=16)\n",
    "ax = plt.gca()  \n",
    "ax.set_ylabel(f'Number of activations', fontsize=12)\n",
    "ax.set_xlabel(\"\", fontsize=16)\n",
    "ax.tick_params(axis='both', which='major')  \n",
    "ax.autoscale(tight=True)\n",
    "ax = plt.gca()\n",
    "ax.tick_params(axis=\"both\", which=\"minor\", bottom=False, \n",
    "               top=False, labelbottom=True, left=False, right=False, labelleft=True)\n",
    "format_axes(ax)\n",
    "savefig(fig_path+\"label_distribution_plaid\",format=\".pdf\")"
   ]
  },
  {
   "cell_type": "code",
   "execution_count": 6,
   "metadata": {},
   "outputs": [],
   "source": [
    "fig = figure(fig_width=None, fig_height=None, columns=1)\n",
    "plt.plot(current[0], \"k\")\n",
    "plt.ylabel(\"$i(t)$ $(A)$\")\n",
    "savefig(fig_path+\"activation_current\", format=\".png\")"
   ]
  },
  {
   "cell_type": "code",
   "execution_count": 9,
   "metadata": {},
   "outputs": [],
   "source": [
    "fig = figure(fig_width=None, fig_height=None, columns=1)\n",
    "plt.plot(current[0], \"k\")\n",
    "plt.ylabel(\"$i(t)$ $(A)$\")\n",
    "savefig(fig_path+\"activation_current\", format=\".pdf\")\n",
    "fig = figure(fig_width=None, fig_height=None, columns=1)\n",
    "plt.plot(voltage[0], \"k\")\n",
    "plt.ylabel(\"$v(t)$ $(V)$\")\n",
    "savefig(fig_path+\"activation_voltage\", format=\".pdf\")"
   ]
  },
  {
   "cell_type": "code",
   "execution_count": null,
   "metadata": {},
   "outputs": [],
   "source": [
    "from IPython import display\n",
    "for idx in np.where(np.array(plaid_label)==\"CFL\")[0]:\n",
    "    plt.title(idx)\n",
    "    plt.plot(current[idx], \"k--\", label=\"$i(t)$\", alpha=0.8)\n",
    "    plt.show()\n",
    "    input(\"enter\")\n",
    "    display.clear_output()"
   ]
  },
  {
   "cell_type": "code",
   "execution_count": 12,
   "metadata": {},
   "outputs": [],
   "source": [
    "fig = figure(fig_width=None, fig_height=None, columns=2)\n",
    "plt.plot(current[11], \"k\")\n",
    "plt.ylabel(\"$i(t)$ $(A)$\")\n",
    "savefig(fig_path+\"activation_current_noise_cfl\", format=\".pdf\")"
   ]
  },
  {
   "cell_type": "markdown",
   "metadata": {},
   "source": [
    "### PLAID voltages"
   ]
  },
  {
   "cell_type": "code",
   "execution_count": null,
   "metadata": {},
   "outputs": [],
   "source": [
    "with plt.style.context(['science', 'ieee']):\n",
    "    fig, axs = plt.subplots(len(label)//3,3, sharex=True, figsize=(6, 4))\n",
    "    fig.subplots_adjust(hspace = 0.25)\n",
    "    axs = axs.ravel()\n",
    "    for idap, app in enumerate(label):\n",
    "        idx = np.random.choice(np.where(np.array(plaid_label)==app)[0])\n",
    "        #i_a, i_f = fryze_power_decomposition(current_sample[idx], voltage_sample[idx], T=500)\n",
    "        axs[idap].plot(voltage[idx], \"k--\", label=\"$v(t)$\", alpha=0.8)\n",
    "        #axs[idap].plot(i_a, label=\"$i(t)_a$\")\n",
    "        #axs[idap].plot(i_f, label=\"$i(t)_f$\")\n",
    "        axs[idap].set_title(app)\n",
    "        axs[idap].set_ylabel(\"Voltage $(V)$\") \n",
    "        axs[idap].set_xlim(0, 501) \n",
    "        format_axes(axs[idap])\n",
    "        axs[idap].autoscale(tight=True)\n",
    "    handles, labels = axs[idap].get_legend_handles_labels()\n",
    "    #fig.legend(handles, labels, loc='upper center',  ncol=3, fontsize=14)\n",
    "    fig.tight_layout()\n",
    "    savefig(fig_path+\"plaid_voltage\",format=\".pdf\")"
   ]
  },
  {
   "cell_type": "markdown",
   "metadata": {},
   "source": [
    "### Current PLAID"
   ]
  },
  {
   "cell_type": "code",
   "execution_count": null,
   "metadata": {},
   "outputs": [],
   "source": [
    "with plt.style.context(['science', 'ieee']):\n",
    "    fig, axs = plt.subplots(len(label)//3,3, sharex=True, figsize=(6, 4))\n",
    "    fig.subplots_adjust(hspace = 0.25)\n",
    "    axs = axs.ravel()\n",
    "    for idap, app in enumerate(label):\n",
    "        idx = np.random.choice(np.where(np.array(plaid_label)==app)[0])\n",
    "        #i_a, i_f = fryze_power_decomposition(current_sample[idx], voltage_sample[idx], T=500)\n",
    "        axs[idap].plot(current[idx], \"k--\", label=\"$i(t)$\", alpha=0.8)\n",
    "        #axs[idap].plot(i_a, label=\"$i(t)_a$\")\n",
    "        #axs[idap].plot(i_f, label=\"$i(t)_f$\")\n",
    "        axs[idap].set_title(app)\n",
    "        axs[idap].set_ylabel(\"Current $(A)$\") \n",
    "        axs[idap].set_xlim(0, 501) \n",
    "        format_axes(axs[idap])\n",
    "        axs[idap].autoscale(tight=True)\n",
    "    handles, labels = axs[idap].get_legend_handles_labels()\n",
    "    #fig.legend(handles, labels, loc='upper center',  ncol=3, fontsize=14)\n",
    "    fig.tight_layout()\n",
    "    savefig(fig_path+\"plaid_current\",format=\".pdf\")"
   ]
  },
  {
   "cell_type": "markdown",
   "metadata": {},
   "source": [
    "### VI"
   ]
  },
  {
   "cell_type": "code",
   "execution_count": null,
   "metadata": {},
   "outputs": [],
   "source": [
    "with plt.style.context(['science', 'ieee']):\n",
    "    fig, axs = plt.subplots(len(label)//3,3, sharex=True, figsize=(6, 4))\n",
    "    fig.subplots_adjust(hspace = 0.25)\n",
    "\n",
    "    axs = axs.ravel()\n",
    "    for idap, app in enumerate(label):\n",
    "        idx = np.random.choice(np.where(np.array(plaid_label)==app)[0])\n",
    "        #i_a, i_f = fryze_power_decomposition(current_sample[idx], voltage_sample[idx], T=500)\n",
    "        axs[idap].plot(voltage[idx], current[idx], \"k--\", label=\"$i(t)$\", alpha=0.8)\n",
    "        #axs[idap].plot(i_a, label=\"$i(t)_a$\")\n",
    "        #axs[idap].plot(i_f, label=\"$i(t)_f$\")\n",
    "        axs[idap].set_title(app)\n",
    "        axs[idap].set_ylabel(\"Current $(A)$\") \n",
    "        axs[idap].set_xlabel(\"Voltage $(V)$\") \n",
    "\n",
    "        format_axes(axs[idap])\n",
    "        axs[idap].autoscale(tight=True)\n",
    "    handles, labels = axs[idap].get_legend_handles_labels()\n",
    "    #fig.legend(handles, labels, loc='upper center',  ncol=3, fontsize=14)\n",
    "    fig.tight_layout()\n",
    "    savefig(fig_path+\"plaid_vi\",format=\".pdf\")"
   ]
  },
  {
   "cell_type": "code",
   "execution_count": 10,
   "metadata": {},
   "outputs": [],
   "source": [
    "plaid_label = np.array(plaid_label)\n",
    "cfl = np.where(plaid_label==\"CFL\")[0]"
   ]
  },
  {
   "cell_type": "code",
   "execution_count": 35,
   "metadata": {},
   "outputs": [],
   "source": [
    "fig = figure(fig_height=1.8, fig_width=2.0)\n",
    "x = current[cfl[0]]\n",
    "xpaa = paa(x, 50)\n",
    "y = voltage[cfl[0]]\n",
    "ypaa = paa(y, 50)\n",
    "plt.plot(x, y, \"k\")\n",
    "plt.ylabel(\"voltage $(V)$\", fontsize=12)\n",
    "plt.xlabel(\"current $(A)$\",  fontsize=12)\n",
    "plt.tight_layout()\n",
    "savefig(fig_path+\"VI_plaid\",format=\".pdf\")"
   ]
  },
  {
   "cell_type": "code",
   "execution_count": 31,
   "metadata": {},
   "outputs": [],
   "source": [
    "fig = figure(fig_height=2.2, fig_width=3)\n",
    "x = current[cfl[0]]\n",
    "xpaa = paa(x, 50)\n",
    "y = voltage[cfl[0]]\n",
    "ypaa = paa(y, 50)\n",
    "plt.plot(y, \"k\")\n",
    "plt.ylabel(\"voltage $(V)$\", fontsize=12)\n",
    "plt.xlabel(\"sample $(T_s)$\",  fontsize=12)\n",
    "plt.tight_layout()\n",
    "savefig(fig_path+\"voltage_plaid\",format=\".pdf\")"
   ]
  },
  {
   "cell_type": "code",
   "execution_count": 25,
   "metadata": {},
   "outputs": [],
   "source": [
    "fig = figure(fig_height=2.2, fig_width=3)\n",
    "x = current[cfl[0]]\n",
    "xpaa = paa(x, 50)\n",
    "y = voltage[cfl[0]]\n",
    "ypaa = paa(y, 50)\n",
    "plt.plot(x, \"k\")\n",
    "plt.ylabel(\"current $(A)$\", fontsize=12)\n",
    "plt.xlabel(\"sample $(T_s)$\",  fontsize=12)\n",
    "plt.tight_layout()\n",
    "savefig(fig_path+\"current_plaid\",format=\".pdf\")"
   ]
  },
  {
   "cell_type": "code",
   "execution_count": 29,
   "metadata": {},
   "outputs": [],
   "source": [
    "img = get_img_from_VI(x, y, 50,1,para=1)\n",
    "fig = figure(fig_height=1.5, fig_width=2.0)\n",
    "plt.imshow(img, cmap='binary')\n",
    "plt.xlabel(\"$w$\")\n",
    "plt.ylabel(\"$w$\")\n",
    "plt.tight_layout()\n",
    "savefig(fig_path+\"VI_image_plaid\",format=\".pdf\")"
   ]
  },
  {
   "cell_type": "code",
   "execution_count": null,
   "metadata": {},
   "outputs": [],
   "source": [
    "plt.plot(xpaa)\n",
    "plt.xlim(0, 50)\n",
    "plt.xlabel(\"sample $w$\")\n",
    "plt.ylabel(\"current $(A)$\")\n",
    "plt.tight_layout()\n",
    "#savefig(fig_path+\"after_PAA\",format=\".pdf\")"
   ]
  },
  {
   "cell_type": "code",
   "execution_count": 36,
   "metadata": {},
   "outputs": [
    {
     "name": "stderr",
     "output_type": "stream",
     "text": [
      "processed: 1478: : 1478it [00:14, 101.32it/s]\n"
     ]
    }
   ],
   "source": [
    "RP = generate_input_feature(current, voltage, \"adaptive\", width=50, multi_dimension=True).numpy()"
   ]
  },
  {
   "cell_type": "code",
   "execution_count": 49,
   "metadata": {},
   "outputs": [],
   "source": [
    "eps=10\n",
    "delta=10\n",
    "dist = torch.tensor(RP[cfl[0]][0])\n",
    "dist = torch.floor(dist*eps)\n",
    "dist[dist>delta]=delta\n",
    "fig = figure(fig_height=1.5, fig_width=2.0)\n",
    "plt.imshow(dist, cmap='binary', origin='lower')\n",
    "plt.xlabel(\"$w$\")\n",
    "plt.ylabel(\"$w$\")\n",
    "plt.tight_layout()\n",
    "savefig(fig_path+\"WRG_image_plaid\",format=\".pdf\")"
   ]
  },
  {
   "cell_type": "code",
   "execution_count": 43,
   "metadata": {},
   "outputs": [],
   "source": [
    "fig = figure(fig_height=1.5, fig_width=2.0)\n",
    "plt.imshow(RP[cfl[0]][0], cmap='gray', origin='lower')\n",
    "plt.xlabel(\"$w$\")\n",
    "plt.ylabel(\"$w$\")\n",
    "plt.tight_layout()\n",
    "savefig(fig_path+\"WRG_image_plaid\",format=\".pdf\")"
   ]
  },
  {
   "cell_type": "code",
   "execution_count": null,
   "metadata": {},
   "outputs": [],
   "source": [
    "PQ=calculatePower(current, voltage, NN=500)"
   ]
  },
  {
   "cell_type": "code",
   "execution_count": null,
   "metadata": {},
   "outputs": [],
   "source": [
    "fig=figure(fig_width=7, fig_height=5)\n",
    "plot_PQPlane(plaid_label, PQ, None, sample=False)\n",
    "savefig(fig_path+\"plaid_PQ_plane\",format=\".pdf\")"
   ]
  },
  {
   "cell_type": "code",
   "execution_count": null,
   "metadata": {},
   "outputs": [],
   "source": [
    "fig =figure(fig_width=3, fig_height=3)\n",
    "dist = create_distance_similarity_matrix(x, 50, 1)\n",
    "model = ReccurrentBlock()\n",
    "out = model(dist)\n",
    "img = out.detach()[0]\n",
    "plt.imshow(img, cmap='YlGnBu', origin='lower')\n",
    "plt.xlabel(\"$W$\")\n",
    "plt.ylabel(\"$H$\")\n",
    "plt.tight_layout()\n",
    "savefig(fig_path+\"rcp_plaid\",format=\".pdf\")"
   ]
  },
  {
   "cell_type": "code",
   "execution_count": null,
   "metadata": {},
   "outputs": [],
   "source": [
    "fig = figure(fig_width=3, fig_height=3)\n",
    "c = current[cfl[0]]\n",
    "v = voltage[cfl[0]]\n",
    "img=get_img_from_VI(c,v, 50,True,1)\n",
    "plt.imshow(img, cmap='binary')\n",
    "plt.xlabel(\"$W$\")\n",
    "plt.ylabel(\"$H$\")\n",
    "plt.tight_layout()\n",
    "savefig(fig_path+\"plaid_vi_image\",format=\".pdf\")"
   ]
  },
  {
   "cell_type": "markdown",
   "metadata": {},
   "source": [
    "### Feature embending "
   ]
  },
  {
   "cell_type": "code",
   "execution_count": null,
   "metadata": {},
   "outputs": [],
   "source": [
    "RP = generate_input_feature(current, voltage, \"adaptive\", width=50, multi_dimension=True).numpy()\n",
    "VI = generate_input_feature(current, voltage, \"vi\", width=50, multi_dimension=True).numpy()"
   ]
  },
  {
   "cell_type": "code",
   "execution_count": null,
   "metadata": {},
   "outputs": [],
   "source": [
    "fig=figure(fig_width=6, fig_height=6)\n",
    "tsne_visualizer(plaid_label, VI, legends=None)\n",
    "savefig(fig_path+\"tsne_feature_VI\",format=\".pdf\")"
   ]
  },
  {
   "cell_type": "code",
   "execution_count": null,
   "metadata": {},
   "outputs": [],
   "source": [
    "fig=figure(fig_width=6, fig_height=6)\n",
    "tsne_visualizer(plaid_label, RP, legends=None)\n",
    "savefig(fig_path+\"tsne_feature_RP\",format=\".pdf\")"
   ]
  },
  {
   "cell_type": "code",
   "execution_count": null,
   "metadata": {},
   "outputs": [],
   "source": [
    "fig=figure(fig_width=6, fig_height=6)\n",
    "tsne_visualizer(plaid_label, current, legends=None)\n",
    "savefig(fig_path+\"tsne_feature_current\",format=\".pdf\")"
   ]
  },
  {
   "cell_type": "code",
   "execution_count": null,
   "metadata": {},
   "outputs": [],
   "source": [
    "fig=figure(fig_width=6, fig_height=6)\n",
    "tsne_visualizer(plaid_label, voltage, legends=None)\n",
    "savefig(fig_path+\"tsne_feature_voltage\",format=\".pdf\")"
   ]
  },
  {
   "cell_type": "markdown",
   "metadata": {},
   "source": [
    "## Visualize learned representation"
   ]
  },
  {
   "cell_type": "code",
   "execution_count": null,
   "metadata": {},
   "outputs": [],
   "source": [
    "class Conv2DVI(nn.Module):\n",
    "    def __init__(self, in_size, out_size, dropout=0.2):\n",
    "        super(Conv2DVI, self).__init__()\n",
    "        self.in_size=in_size\n",
    "        self.conv1 = nn.Sequential(\n",
    "            nn.Conv2d(in_size, 16, 5, 2),\n",
    "            nn.ReLU()\n",
    "            #nn.MaxPool2d(3, 2)\n",
    "        )\n",
    "        self.conv2 = nn.Sequential(\n",
    "            nn.Conv2d(16, 32, 5, 2),\n",
    "            nn.ReLU()\n",
    "            #nn.MaxPool2d(3, 2)\n",
    "        )\n",
    "        self.conv3 = nn.Sequential(\n",
    "            nn.Conv2d(32, 64, 5, 2),\n",
    "            nn.ReLU(),\n",
    "            nn.MaxPool2d(3, 2)\n",
    "        )\n",
    "        self.fc_out=nn.Sequential(\n",
    "            nn.Linear(64, 1024),\n",
    "            nn.ReLU(),\n",
    "            nn.Dropout(dropout),\n",
    "            nn.Linear(1024, out_size)\n",
    "            )\n",
    "        self.dropout = nn.Dropout(dropout)\n",
    "\n",
    "    def forward(self, x):\n",
    "        x = self.conv1(x)\n",
    "        x = self.conv2(x)\n",
    "        x = self.conv3(x)\n",
    "        x = x.view(x.size(0), -1)\n",
    "        x = self.dropout(x)\n",
    "        x= self.fc_out(x)\n",
    "        return x"
   ]
  },
  {
   "cell_type": "code",
   "execution_count": null,
   "metadata": {},
   "outputs": [],
   "source": [
    "from data_generator import *\n",
    "from model import *\n",
    "from utils import *\n",
    "from fit_functions import *\n",
    "dataset=\"plaid\"\n",
    "image_type=\"vi\"\n",
    "width=50\n",
    "model_name=\"CNN\"\n",
    "run_id=1\n",
    "file_name=f\"{dataset}_{image_type}_{str(width)}_{model_name}_{str(run_id)}__exp_two\"\n",
    "saved_model_path   = '../checkpoint/plaid_vi_50_CNN_1__exp_two_checkpoint.pt'\n",
    "checkpoint = Checkpoint(saved_model_path, patience=100, checkpoint=True, score_mode=\"max\",min_delta=1e-4)\n",
    "model_vi = Conv2DVI(1, out_size=12, dropout=0.2)\n",
    "model_vi=checkpoint.load_saved_model(model_vi)\n",
    "model_vi = model_vi.eval()"
   ]
  },
  {
   "cell_type": "code",
   "execution_count": null,
   "metadata": {},
   "outputs": [],
   "source": [
    "from sklearn.preprocessing import LabelEncoder\n",
    "le = LabelEncoder()\n",
    "le.fit(labels)\n",
    "y = le.transform(labels)\n",
    "vi_data = Dataset(torch.tensor(VI), y)\n",
    "loader=torch.utils.data.DataLoader(vi_data, 32, shuffle=False, num_workers=4, drop_last=False)\n",
    "target = []\n",
    "latent_feature = []\n",
    "with torch.no_grad():\n",
    "    for i, data in enumerate(loader):\n",
    "        inp, targ=data\n",
    "        out = model_vi(inp)\n",
    "        latent_feature.append(out.data.numpy())\n",
    "        target.append(targ.numpy())"
   ]
  },
  {
   "cell_type": "code",
   "execution_count": null,
   "metadata": {},
   "outputs": [],
   "source": [
    "target = np.hstack(target)\n",
    "latent_feature=np.concatenate(latent_feature, 0)\n",
    "model = TSNE(perplexity=40, min_grad_norm=1E-12, n_iter=3000)\n",
    "TSNEF  = model.fit_transform(latent_feature)"
   ]
  },
  {
   "cell_type": "code",
   "execution_count": null,
   "metadata": {},
   "outputs": [],
   "source": [
    "fig=figure(fig_width=6, fig_height=6)\n",
    "clrs =sns.color_palette(\"Paired\", 12)\n",
    "for i in np.unique(target):\n",
    "    ix=np.where(target==i)[0]\n",
    "    plt.scatter(TSNEF[ix,0], TSNEF[ix,1],label=plaid_names[i], color=clrs[i])\n",
    "plt.legend(bbox_to_anchor=(1.01, 1), loc=2, borderaxespad=0.)\n",
    "plt.xlabel(\"tsne-2d-one\")\n",
    "plt.ylabel(\"tsne-2d-two\")\n",
    "savefig(fig_path+\"tsne_latent_feature_VI_plaid\",format=\".pdf\")"
   ]
  },
  {
   "cell_type": "markdown",
   "metadata": {},
   "source": [
    "### RP"
   ]
  },
  {
   "cell_type": "code",
   "execution_count": null,
   "metadata": {},
   "outputs": [],
   "source": [
    "image_type=\"adaptive\"\n",
    "width=50\n",
    "model_name=\"CNN\"\n",
    "run_id=1\n",
    "saved_model_path   = '../checkpoint/plaid_adaptive_50_CNN_1_parameters_emb_size_10_10_checkpoint.pt'\n",
    "checkpoint = Checkpoint(saved_model_path, patience=100, checkpoint=True, score_mode=\"max\",min_delta=1e-4)\n",
    "model_rp = Conv2DAdaptiveRecurrence(in_size=1, out_size=12,\n",
    "                                            dropout=0.2)\n",
    "model_rp=checkpoint.load_saved_model(model_rp)\n",
    "model_rp=model_rp\n",
    "rp_data = Dataset(torch.tensor(RP), y)\n",
    "loader=torch.utils.data.DataLoader(rp_data, 32, shuffle=False, num_workers=4, drop_last=False)\n",
    "target = []\n",
    "latent_feature = []\n",
    "with torch.no_grad():\n",
    "    for i, data in enumerate(loader):\n",
    "        inp, targ=data\n",
    "        out = model_rp(inp)\n",
    "        latent_feature.append(out.data.numpy())\n",
    "        target.append(targ.numpy())"
   ]
  },
  {
   "cell_type": "code",
   "execution_count": null,
   "metadata": {},
   "outputs": [],
   "source": [
    "target = np.hstack(target)\n",
    "latent_feature=np.concatenate(latent_feature, 0)\n",
    "model = TSNE(perplexity=40, min_grad_norm=1E-12, n_iter=3000)\n",
    "TSNEF  = model.fit_transform(latent_feature)"
   ]
  },
  {
   "cell_type": "code",
   "execution_count": null,
   "metadata": {},
   "outputs": [],
   "source": [
    "fig=figure(fig_width=6, fig_height=6)\n",
    "clrs =sns.color_palette(\"Paired\", 12)\n",
    "for i in np.unique(target):\n",
    "    ix=np.where(target==i)[0]\n",
    "    plt.scatter(TSNEF[ix,0], TSNEF[ix,1],label=plaid_names[i], color=clrs[i])\n",
    "plt.legend(bbox_to_anchor=(1.01, 1), loc=2, borderaxespad=0.)\n",
    "plt.xlabel(\"tsne-2d-one\")\n",
    "plt.ylabel(\"tsne-2d-two\")\n",
    "savefig(fig_path+\"tsne_latent_feature_RP_plaid\",format=\".pdf\")"
   ]
  },
  {
   "cell_type": "markdown",
   "metadata": {},
   "source": [
    "### Industrial"
   ]
  },
  {
   "cell_type": "code",
   "execution_count": 12,
   "metadata": {},
   "outputs": [],
   "source": []
  },
  {
   "cell_type": "code",
   "execution_count": 13,
   "metadata": {},
   "outputs": [],
   "source": [
    "current, voltage, labels = load_data(\"lilac\", submetered=False)"
   ]
  },
  {
   "cell_type": "code",
   "execution_count": 16,
   "metadata": {},
   "outputs": [],
   "source": [
    "lilacd_label = []\n",
    "for l in labels:\n",
    "    lilacd_label.append(lilac_labels[l])"
   ]
  },
  {
   "cell_type": "code",
   "execution_count": 28,
   "metadata": {},
   "outputs": [],
   "source": [
    "label, counts=np.unique(lilacd_label, return_counts=True)\n",
    "volgorde = np.argsort(counts)[::-1][:len(counts)]\n",
    "fig = figure(columns=2)\n",
    "plt.bar(label[volgorde], counts[volgorde], alpha=0.6)\n",
    "plt.xticks(rotation=90, fontsize=16)\n",
    "ax = plt.gca()  \n",
    "ax.set_ylabel(f'Number of activations', fontsize=16)\n",
    "ax.set_xlabel(\"\", fontsize=20)\n",
    "ax.tick_params(axis='both', which='major')  \n",
    "ax.autoscale(tight=True)\n",
    "ax = plt.gca()\n",
    "ax.tick_params(axis=\"both\", which=\"minor\", bottom=False, \n",
    "               top=False, labelbottom=True, left=False, right=False, labelleft=True)\n",
    "format_axes(ax)\n",
    "savefig(fig_path+\"label_distribution_lilac\",format=\".pdf\")"
   ]
  },
  {
   "cell_type": "code",
   "execution_count": null,
   "metadata": {},
   "outputs": [],
   "source": [
    "np.unique(labels)\n",
    "res_app=['Coffee-machine', 'Drilling-machine', 'Kettle', 'Raclette', 'Refrigerator', 'Vacuum-cleaner', 'Hair-dryer', 'Bulb']\n",
    "indust_app = []\n",
    "for l in np.unique(labels):\n",
    "    if l not in res_app:\n",
    "        indust_app.append(l)"
   ]
  },
  {
   "cell_type": "code",
   "execution_count": null,
   "metadata": {},
   "outputs": [],
   "source": [
    "## three phase\n",
    "motor = np.where(labels=='Squirrel-3-async-2x')[0]\n",
    "x = current[motor[20]]"
   ]
  },
  {
   "cell_type": "code",
   "execution_count": null,
   "metadata": {},
   "outputs": [],
   "source": [
    "fig =figure(fig_width=5, fig_height=4)\n",
    "plt.plot(x[0], label=\"phase-1\")\n",
    "plt.xlabel(\"sample $N$\")\n",
    "plt.ylabel(\"current $(A)$\")\n",
    "plt.xlim(0, 1000)\n",
    "plt.tight_layout()\n",
    "savefig(fig_path+\"input_signal_industrial_three_phase_1\",format=\".pdf\")"
   ]
  },
  {
   "cell_type": "code",
   "execution_count": null,
   "metadata": {},
   "outputs": [],
   "source": [
    "fig =figure(fig_width=5, fig_height=4)\n",
    "plt.plot(x[1], label=\"phase-2\")\n",
    "plt.xlabel(\"sample $N$\")\n",
    "plt.ylabel(\"current $(A)$\")\n",
    "plt.xlim(0, 1000)\n",
    "plt.tight_layout()\n",
    "savefig(fig_path+\"input_signal_industrial_three_phase_2\",format=\".pdf\")"
   ]
  },
  {
   "cell_type": "code",
   "execution_count": null,
   "metadata": {},
   "outputs": [],
   "source": [
    "fig =figure(fig_width=5, fig_height=4)\n",
    "plt.plot(x[2], label=\"phase-3\")\n",
    "plt.xlabel(\"sample $N$\")\n",
    "plt.ylabel(\"current $(A)$\")\n",
    "plt.xlim(0, 1000)\n",
    "plt.tight_layout()\n",
    "savefig(fig_path+\"input_signal_industrial_three_phase_3\",format=\".pdf\")"
   ]
  },
  {
   "cell_type": "code",
   "execution_count": null,
   "metadata": {},
   "outputs": [],
   "source": [
    "fig =figure(fig_width=4, fig_height=3)\n",
    "dril = np.where(labels=='Drilling-machine')[0]\n",
    "y = current[dril[10]]\n",
    "v = voltage[dril[10]]\n",
    "plt.plot(y[0], label=\"phase-1\")\n",
    "plt.plot(y[1], label=\"phase-2\")\n",
    "plt.plot(y[2], label=\"phase-3\")\n",
    "plt.legend()\n",
    "plt.xlabel(\"sample $N$\")\n",
    "plt.ylabel(\"current $A$\")\n",
    "#plt.ylim(-1,1)\n",
    "plt.tight_layout()\n",
    "savefig(fig_path+\"input_signal_industrial_single_phase_DL\",format=\".pdf\")"
   ]
  },
  {
   "cell_type": "code",
   "execution_count": null,
   "metadata": {},
   "outputs": [],
   "source": [
    "## PQ plane"
   ]
  },
  {
   "cell_type": "code",
   "execution_count": null,
   "metadata": {},
   "outputs": [],
   "source": [
    "PQ = []\n",
    "for k in range(3):\n",
    "    PQ+=[calculatePower(current[:,k,:], voltage[:,k,:], NN=500)]\n",
    "PQ = np.array(PQ)"
   ]
  },
  {
   "cell_type": "code",
   "execution_count": null,
   "metadata": {},
   "outputs": [],
   "source": [
    "PQT=PQ.sum(0)\n",
    "fig=figure(fig_width=8)\n",
    "plot_PQPlane(labels, PQT, None, sample=False)\n",
    "savefig(fig_path+\"lilac_PQ_plane\",format=\".pdf\")"
   ]
  },
  {
   "cell_type": "code",
   "execution_count": null,
   "metadata": {},
   "outputs": [],
   "source": [
    "dist = create_N_distance_similarity_matrix(x, 50, 1)\n",
    "model = ReccurrentBlock()\n",
    "out = model(dist)\n",
    "img = out.detach()[0]\n",
    "fig = figure(fig_width=3, fig_height=3)\n",
    "plt.imshow(img, cmap='YlGnBu', origin='lower')\n",
    "plt.xlabel(\"$W$\")\n",
    "plt.ylabel(\"$H$\")\n",
    "plt.tight_layout()\n",
    "savefig(fig_path+\"rcp_lilac_one_sq_1\",format=\".pdf\")"
   ]
  },
  {
   "cell_type": "code",
   "execution_count": null,
   "metadata": {},
   "outputs": [],
   "source": [
    "\n",
    "out = model(dist)\n",
    "img = out.detach()[1]\n",
    "fig = figure(fig_width=3, fig_height=3)\n",
    "plt.imshow(img, cmap='YlGnBu', origin='lower')\n",
    "plt.xlabel(\"$W$\")\n",
    "plt.ylabel(\"$H$\")\n",
    "plt.tight_layout()\n",
    "savefig(fig_path+\"rcp_lilac_one_sq_2\",format=\".pdf\")"
   ]
  },
  {
   "cell_type": "code",
   "execution_count": null,
   "metadata": {},
   "outputs": [],
   "source": [
    "\n",
    "img = out.detach()[2]\n",
    "fig = figure(fig_width=3, fig_height=3)\n",
    "plt.imshow(img, cmap='YlGnBu', origin='lower')\n",
    "plt.xlabel(\"$W$\")\n",
    "plt.ylabel(\"$H$\")\n",
    "plt.tight_layout()\n",
    "savefig(fig_path+\"rcp_lilac_one_sq_3\",format=\".pdf\")"
   ]
  },
  {
   "cell_type": "code",
   "execution_count": null,
   "metadata": {},
   "outputs": [],
   "source": [
    "dist = create_N_distance_similarity_matrix(y, 50, 1)\n",
    "model = ReccurrentBlock()\n",
    "out = model(dist)\n",
    "img = out.detach()[0]\n",
    "fig = figure(fig_width=3, fig_height=3)\n",
    "plt.imshow(img, cmap='YlGnBu', origin='lower')\n",
    "plt.xlabel(\"$W$\")\n",
    "plt.ylabel(\"$H$\")\n",
    "plt.tight_layout()\n",
    "savefig(fig_path+\"rcp_lilac_phase_drill_1\",format=\".pdf\")"
   ]
  },
  {
   "cell_type": "code",
   "execution_count": null,
   "metadata": {},
   "outputs": [],
   "source": [
    "img = out.detach()[1]\n",
    "fig = figure(fig_width=3, fig_height=3)\n",
    "plt.imshow(img, cmap='YlGnBu', origin='lower')\n",
    "plt.xlabel(\"$W$\")\n",
    "plt.ylabel(\"$H$\")\n",
    "plt.tight_layout()\n",
    "savefig(fig_path+\"rcp_lilac_phase_2_drill\",format=\".pdf\")"
   ]
  },
  {
   "cell_type": "code",
   "execution_count": null,
   "metadata": {},
   "outputs": [],
   "source": [
    "img = out.detach()[2]\n",
    "fig = figure(fig_width=3, fig_height=3)\n",
    "plt.imshow(img, cmap='YlGnBu', origin='lower')\n",
    "plt.xlabel(\"$W$\")\n",
    "plt.ylabel(\"$H$\")\n",
    "plt.tight_layout()\n",
    "savefig(fig_path+\"rcp_lilac_phase_3_drill\",format=\".pdf\")"
   ]
  },
  {
   "cell_type": "code",
   "execution_count": null,
   "metadata": {},
   "outputs": [],
   "source": [
    "RP = generate_input_feature(current, voltage, \"adaptive\", width=50, multi_dimension=True).numpy()\n",
    "#"
   ]
  },
  {
   "cell_type": "code",
   "execution_count": null,
   "metadata": {},
   "outputs": [],
   "source": [
    "VI = generate_input_feature(current, voltage, \"vi\", width=50, multi_dimension=True).numpy()"
   ]
  },
  {
   "cell_type": "code",
   "execution_count": null,
   "metadata": {},
   "outputs": [],
   "source": [
    "fig=figure(fig_width=6, fig_height=6)\n",
    "tsne_visualizer(labels, VI, legends=None)\n",
    "savefig(fig_path+\"tsne_feature_VI_lilac\",format=\".pdf\")"
   ]
  },
  {
   "cell_type": "code",
   "execution_count": null,
   "metadata": {},
   "outputs": [],
   "source": [
    "fig=figure(fig_width=6, fig_height=6)\n",
    "tsne_visualizer(labels, RP, legends=None)\n",
    "savefig(fig_path+\"tsne_feature_RP_lilac\",format=\".pdf\")"
   ]
  },
  {
   "cell_type": "markdown",
   "metadata": {},
   "source": [
    "## Visualize learned representation VI"
   ]
  },
  {
   "cell_type": "code",
   "execution_count": null,
   "metadata": {},
   "outputs": [],
   "source": [
    "dataset=\"lilac\"\n",
    "image_type=\"vi\"\n",
    "width=50\n",
    "model_name=\"CNN\"\n",
    "run_id=1\n",
    "saved_model_path   = '../checkpoint/lilac_vi_50_CNN_1__exp_two_checkpoint.pt'\n",
    "checkpoint = Checkpoint(saved_model_path, patience=100, checkpoint=True, score_mode=\"max\",min_delta=1e-4)\n",
    "model = Conv2DVI(3, out_size=16, dropout=0.2)\n",
    "model_vi=checkpoint.load_saved_model(model)\n",
    "model_vi = model_vi.eval()\n"
   ]
  },
  {
   "cell_type": "code",
   "execution_count": null,
   "metadata": {},
   "outputs": [],
   "source": [
    "le = LabelEncoder()\n",
    "le.fit(labels)\n",
    "y = le.transform(labels)\n",
    "vi_data = Dataset(torch.tensor(VI), y)\n",
    "loader=torch.utils.data.DataLoader(vi_data, 32, shuffle=False, num_workers=4, drop_last=False)\n",
    "target = []\n",
    "latent_feature = []\n",
    "with torch.no_grad():\n",
    "    for i, data in enumerate(loader):\n",
    "        inp, targ=data\n",
    "        out = model_vi(inp)\n",
    "        latent_feature.append(out.data.numpy())\n",
    "        target.append(targ.numpy())"
   ]
  },
  {
   "cell_type": "code",
   "execution_count": null,
   "metadata": {},
   "outputs": [],
   "source": [
    "target = np.hstack(target)\n",
    "latent_feature=np.concatenate(latent_feature, 0)\n",
    "model = TSNE(perplexity=40, min_grad_norm=1E-12, n_iter=3000)\n",
    "TSNEF  = model.fit_transform(latent_feature)"
   ]
  },
  {
   "cell_type": "code",
   "execution_count": null,
   "metadata": {},
   "outputs": [],
   "source": [
    "fig=figure(fig_width=6, fig_height=6)\n",
    "clrs =sns.color_palette(\"Paired\", 16)\n",
    "for i in np.unique(target):\n",
    "    ix=np.where(target==i)[0]\n",
    "    plt.scatter(TSNEF[ix,0], TSNEF[ix,1],label=lilac_names[i], color=clrs[i])\n",
    "plt.legend(bbox_to_anchor=(1.01, 1), loc=2, borderaxespad=0.)\n",
    "plt.xlabel(\"tsne-2d-one\")\n",
    "plt.ylabel(\"tsne-2d-two\")\n",
    "savefig(fig_path+\"tsne_latent_feature_VI_lilac\",format=\".pdf\")"
   ]
  },
  {
   "cell_type": "code",
   "execution_count": null,
   "metadata": {},
   "outputs": [],
   "source": [
    "### RP"
   ]
  },
  {
   "cell_type": "code",
   "execution_count": null,
   "metadata": {},
   "outputs": [],
   "source": [
    "image_type=\"adaptive\"\n",
    "width=50\n",
    "model_name=\"CNN\"\n",
    "run_id=1\n",
    "file_name=f\"{dataset}_{image_type}_{str(width)}_{model_name}_{str(run_id)}__exp_two\"\n",
    "saved_model_path   = '../checkpoint/lilac_adaptive_50_CNN_1_parameters_emb_size_10_10_checkpoint.pt'\n",
    "checkpoint = Checkpoint(saved_model_path, patience=100, checkpoint=True, score_mode=\"max\",min_delta=1e-4)\n",
    "model_rp = Conv2DAdaptiveRecurrence(in_size=3, out_size=16,\n",
    "                                            dropout=0.2)\n",
    "model_rp=checkpoint.load_saved_model(model_rp)\n",
    "model_rp=model_rp\n",
    "rp_data = Dataset(torch.tensor(RP), y)\n",
    "loader=torch.utils.data.DataLoader(rp_data, 32, shuffle=False, num_workers=4, drop_last=False)\n",
    "target = []\n",
    "latent_feature = []\n",
    "with torch.no_grad():\n",
    "    for i, data in enumerate(loader):\n",
    "        inp, targ=data\n",
    "        out = model_rp(inp)\n",
    "        latent_feature.append(out.data.numpy())\n",
    "        target.append(targ.numpy())"
   ]
  },
  {
   "cell_type": "code",
   "execution_count": null,
   "metadata": {},
   "outputs": [],
   "source": [
    "target = np.hstack(target)\n",
    "latent_feature=np.concatenate(latent_feature, 0)\n",
    "model = TSNE(perplexity=40, min_grad_norm=1E-12, n_iter=3000)\n",
    "TSNEF  = model.fit_transform(latent_feature)"
   ]
  },
  {
   "cell_type": "code",
   "execution_count": null,
   "metadata": {},
   "outputs": [],
   "source": [
    "fig=figure(fig_width=6, fig_height=6)\n",
    "clrs =sns.color_palette(\"Paired\", 16)\n",
    "for i in np.unique(target):\n",
    "    ix=np.where(target==i)[0]\n",
    "    plt.scatter(TSNEF[ix,0], TSNEF[ix,1],label=lilac_names[i], color=clrs[i])\n",
    "plt.legend(bbox_to_anchor=(1.01, 1), loc=2, borderaxespad=0.)\n",
    "plt.xlabel(\"tsne-2d-one\")\n",
    "plt.ylabel(\"tsne-2d-two\")\n",
    "savefig(fig_path+\"tsne_latent_feature_RP_lilac\",format=\".pdf\")"
   ]
  },
  {
   "cell_type": "markdown",
   "metadata": {},
   "source": [
    "### PLAID"
   ]
  }
 ],
 "metadata": {
  "kernelspec": {
   "display_name": "Python 3",
   "language": "python",
   "name": "python3"
  },
  "language_info": {
   "codemirror_mode": {
    "name": "ipython",
    "version": 3
   },
   "file_extension": ".py",
   "mimetype": "text/x-python",
   "name": "python",
   "nbconvert_exporter": "python",
   "pygments_lexer": "ipython3",
   "version": "3.7.7"
  },
  "latex_envs": {
   "LaTeX_envs_menu_present": true,
   "autoclose": false,
   "autocomplete": true,
   "bibliofile": "biblio.bib",
   "cite_by": "apalike",
   "current_citInitial": 1,
   "eqLabelWithNumbers": true,
   "eqNumInitial": 1,
   "hotkeys": {
    "equation": "Ctrl-E",
    "itemize": "Ctrl-I"
   },
   "labels_anchors": false,
   "latex_user_defs": false,
   "report_style_numbering": false,
   "user_envs_cfg": false
  }
 },
 "nbformat": 4,
 "nbformat_minor": 4
}
